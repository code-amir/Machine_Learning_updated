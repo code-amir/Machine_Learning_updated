{
 "cells": [
  {
   "cell_type": "markdown",
   "metadata": {
    "colab": {},
    "colab_type": "code",
    "id": "BiIrUwlc5vxg"
   },
   "source": [
    "By AppliedAICourse.com"
   ]
  },
  {
   "cell_type": "code",
   "execution_count": 1,
   "metadata": {
    "colab": {
     "base_uri": "https://localhost:8080/",
     "height": 448
    },
    "colab_type": "code",
    "id": "BWtzAAvL6DOK",
    "outputId": "87d08196-2e5f-4ca0-fc5e-3a807addff14"
   },
   "outputs": [
    {
     "name": "stdout",
     "output_type": "stream",
     "text": [
      "zsh:1: command not found: lscpu\r\n"
     ]
    }
   ],
   "source": [
    "# Number of CPUs and Threads in Linux.\n",
    "# Refer: https://linux.die.net/man/1/lscpu\n",
    "!lscpu\n"
   ]
  },
  {
   "cell_type": "code",
   "execution_count": 2,
   "metadata": {},
   "outputs": [
    {
     "name": "stdout",
     "output_type": "stream",
     "text": [
      "Hardware:\r\n",
      "\r\n",
      "    Hardware Overview:\r\n",
      "\r\n",
      "      Model Name: MacBook Pro\r\n",
      "      Model Identifier: MacBookPro16,1\r\n",
      "      Processor Name: 6-Core Intel Core i7\r\n",
      "      Processor Speed: 2.6 GHz\r\n",
      "      Number of Processors: 1\r\n",
      "      Total Number of Cores: 6\r\n",
      "      L2 Cache (per Core): 256 KB\r\n",
      "      L3 Cache: 12 MB\r\n",
      "      Hyper-Threading Technology: Enabled\r\n",
      "      Memory: 16 GB\r\n",
      "      Boot ROM Version: 1554.80.3.0.0 (iBridge: 18.16.14346.0.0,0)\r\n",
      "      Serial Number (system): C02ZR5NAMD6M\r\n",
      "      Hardware UUID: 2732CCC8-C49F-53A7-ACDF-20160E69F075\r\n",
      "      Activation Lock Status: Disabled\r\n",
      "\r\n"
     ]
    }
   ],
   "source": [
    "# for Mac\n",
    "!system_profiler SPHardwareDataType; "
   ]
  },
  {
   "cell_type": "markdown",
   "metadata": {
    "colab_type": "text",
    "id": "d6rvY6mU9Ngm"
   },
   "source": [
    "## Mean of 100 Million observations"
   ]
  },
  {
   "cell_type": "code",
   "execution_count": 37,
   "metadata": {
    "colab": {
     "base_uri": "https://localhost:8080/",
     "height": 34
    },
    "colab_type": "code",
    "id": "3KofCQBP6zbT",
    "outputId": "53b60bdb-2155-4c3c-c667-b749d19ae9ae"
   },
   "outputs": [
    {
     "name": "stdout",
     "output_type": "stream",
     "text": [
      "(100000000,)\n"
     ]
    }
   ],
   "source": [
    "# Generate random 100MM data points \n",
    "import numpy as np\n",
    "n =100000000\n",
    "d = np.random.rand(n)\n",
    "print(d.shape)"
   ]
  },
  {
   "cell_type": "code",
   "execution_count": 38,
   "metadata": {
    "colab": {
     "base_uri": "https://localhost:8080/",
     "height": 51
    },
    "colab_type": "code",
    "id": "okpN0WRo9qYk",
    "outputId": "e6f38c2a-bab8-4253-9810-e7e9d93132f7"
   },
   "outputs": [
    {
     "name": "stdout",
     "output_type": "stream",
     "text": [
      "20.49630379676819\n",
      "0.5000084596707736\n"
     ]
    }
   ],
   "source": [
    "import time\n",
    "def mean():\n",
    "\n",
    "  #Sum using for loops. We can use inbuilt NumPy Sum opeartion for better speed.\n",
    "  sum = 0\n",
    "  n=d.size\n",
    "  for i in range(n):\n",
    "    sum +=d[i]\n",
    "\n",
    "  #Mean\n",
    "  mean = sum/n\n",
    "  return mean\n",
    "\n",
    "\n",
    "#Time the execution\n",
    "start_time = time.time()\n",
    "m = mean() # compute mean of 100MM numbers.\n",
    "end_time = time.time()\n",
    "print (end_time-start_time)\n",
    "print(m)"
   ]
  },
  {
   "cell_type": "markdown",
   "metadata": {
    "colab_type": "text",
    "id": "vic-5rdM-j27"
   },
   "source": [
    "### Multi-Processing Code"
   ]
  },
  {
   "cell_type": "markdown",
   "metadata": {},
   "source": [
    "#### Doesn't run in Jupyter notebook\n",
    "- Use Script as workaround"
   ]
  },
  {
   "cell_type": "code",
   "execution_count": 21,
   "metadata": {
    "colab": {
     "base_uri": "https://localhost:8080/",
     "height": 34
    },
    "colab_type": "code",
    "id": "f4m9X5dw-Pvh",
    "outputId": "1e7f4eb5-2063-41b8-f475-4df24e4a0a88"
   },
   "outputs": [
    {
     "ename": "KeyboardInterrupt",
     "evalue": "",
     "output_type": "error",
     "traceback": [
      "\u001b[0;31m---------------------------------------------------------------------------\u001b[0m",
      "\u001b[0;31mKeyboardInterrupt\u001b[0m                         Traceback (most recent call last)",
      "\u001b[0;32m<ipython-input-21-6c8144d16018>\u001b[0m in \u001b[0;36m<module>\u001b[0;34m\u001b[0m\n\u001b[1;32m     27\u001b[0m \u001b[0mstart_time\u001b[0m \u001b[0;34m=\u001b[0m \u001b[0mtime\u001b[0m\u001b[0;34m.\u001b[0m\u001b[0mtime\u001b[0m\u001b[0;34m(\u001b[0m\u001b[0;34m)\u001b[0m\u001b[0;34m\u001b[0m\u001b[0;34m\u001b[0m\u001b[0m\n\u001b[1;32m     28\u001b[0m \u001b[0;34m\u001b[0m\u001b[0m\n\u001b[0;32m---> 29\u001b[0;31m \u001b[0mp1\u001b[0m\u001b[0;34m.\u001b[0m\u001b[0mstart\u001b[0m\u001b[0;34m(\u001b[0m\u001b[0;34m)\u001b[0m\u001b[0;34m\u001b[0m\u001b[0;34m\u001b[0m\u001b[0m\n\u001b[0m\u001b[1;32m     30\u001b[0m \u001b[0mp2\u001b[0m\u001b[0;34m.\u001b[0m\u001b[0mstart\u001b[0m\u001b[0;34m(\u001b[0m\u001b[0;34m)\u001b[0m\u001b[0;34m\u001b[0m\u001b[0;34m\u001b[0m\u001b[0m\n\u001b[1;32m     31\u001b[0m \u001b[0;34m\u001b[0m\u001b[0m\n",
      "\u001b[0;32m~/opt/anaconda3/lib/python3.8/multiprocessing/process.py\u001b[0m in \u001b[0;36mstart\u001b[0;34m(self)\u001b[0m\n\u001b[1;32m    119\u001b[0m                \u001b[0;34m'daemonic processes are not allowed to have children'\u001b[0m\u001b[0;34m\u001b[0m\u001b[0;34m\u001b[0m\u001b[0m\n\u001b[1;32m    120\u001b[0m         \u001b[0m_cleanup\u001b[0m\u001b[0;34m(\u001b[0m\u001b[0;34m)\u001b[0m\u001b[0;34m\u001b[0m\u001b[0;34m\u001b[0m\u001b[0m\n\u001b[0;32m--> 121\u001b[0;31m         \u001b[0mself\u001b[0m\u001b[0;34m.\u001b[0m\u001b[0m_popen\u001b[0m \u001b[0;34m=\u001b[0m \u001b[0mself\u001b[0m\u001b[0;34m.\u001b[0m\u001b[0m_Popen\u001b[0m\u001b[0;34m(\u001b[0m\u001b[0mself\u001b[0m\u001b[0;34m)\u001b[0m\u001b[0;34m\u001b[0m\u001b[0;34m\u001b[0m\u001b[0m\n\u001b[0m\u001b[1;32m    122\u001b[0m         \u001b[0mself\u001b[0m\u001b[0;34m.\u001b[0m\u001b[0m_sentinel\u001b[0m \u001b[0;34m=\u001b[0m \u001b[0mself\u001b[0m\u001b[0;34m.\u001b[0m\u001b[0m_popen\u001b[0m\u001b[0;34m.\u001b[0m\u001b[0msentinel\u001b[0m\u001b[0;34m\u001b[0m\u001b[0;34m\u001b[0m\u001b[0m\n\u001b[1;32m    123\u001b[0m         \u001b[0;31m# Avoid a refcycle if the target function holds an indirect\u001b[0m\u001b[0;34m\u001b[0m\u001b[0;34m\u001b[0m\u001b[0;34m\u001b[0m\u001b[0m\n",
      "\u001b[0;32m~/opt/anaconda3/lib/python3.8/multiprocessing/context.py\u001b[0m in \u001b[0;36m_Popen\u001b[0;34m(process_obj)\u001b[0m\n\u001b[1;32m    222\u001b[0m     \u001b[0;34m@\u001b[0m\u001b[0mstaticmethod\u001b[0m\u001b[0;34m\u001b[0m\u001b[0;34m\u001b[0m\u001b[0m\n\u001b[1;32m    223\u001b[0m     \u001b[0;32mdef\u001b[0m \u001b[0m_Popen\u001b[0m\u001b[0;34m(\u001b[0m\u001b[0mprocess_obj\u001b[0m\u001b[0;34m)\u001b[0m\u001b[0;34m:\u001b[0m\u001b[0;34m\u001b[0m\u001b[0;34m\u001b[0m\u001b[0m\n\u001b[0;32m--> 224\u001b[0;31m         \u001b[0;32mreturn\u001b[0m \u001b[0m_default_context\u001b[0m\u001b[0;34m.\u001b[0m\u001b[0mget_context\u001b[0m\u001b[0;34m(\u001b[0m\u001b[0;34m)\u001b[0m\u001b[0;34m.\u001b[0m\u001b[0mProcess\u001b[0m\u001b[0;34m.\u001b[0m\u001b[0m_Popen\u001b[0m\u001b[0;34m(\u001b[0m\u001b[0mprocess_obj\u001b[0m\u001b[0;34m)\u001b[0m\u001b[0;34m\u001b[0m\u001b[0;34m\u001b[0m\u001b[0m\n\u001b[0m\u001b[1;32m    225\u001b[0m \u001b[0;34m\u001b[0m\u001b[0m\n\u001b[1;32m    226\u001b[0m \u001b[0;32mclass\u001b[0m \u001b[0mDefaultContext\u001b[0m\u001b[0;34m(\u001b[0m\u001b[0mBaseContext\u001b[0m\u001b[0;34m)\u001b[0m\u001b[0;34m:\u001b[0m\u001b[0;34m\u001b[0m\u001b[0;34m\u001b[0m\u001b[0m\n",
      "\u001b[0;32m~/opt/anaconda3/lib/python3.8/multiprocessing/context.py\u001b[0m in \u001b[0;36m_Popen\u001b[0;34m(process_obj)\u001b[0m\n\u001b[1;32m    281\u001b[0m         \u001b[0;32mdef\u001b[0m \u001b[0m_Popen\u001b[0m\u001b[0;34m(\u001b[0m\u001b[0mprocess_obj\u001b[0m\u001b[0;34m)\u001b[0m\u001b[0;34m:\u001b[0m\u001b[0;34m\u001b[0m\u001b[0;34m\u001b[0m\u001b[0m\n\u001b[1;32m    282\u001b[0m             \u001b[0;32mfrom\u001b[0m \u001b[0;34m.\u001b[0m\u001b[0mpopen_spawn_posix\u001b[0m \u001b[0;32mimport\u001b[0m \u001b[0mPopen\u001b[0m\u001b[0;34m\u001b[0m\u001b[0;34m\u001b[0m\u001b[0m\n\u001b[0;32m--> 283\u001b[0;31m             \u001b[0;32mreturn\u001b[0m \u001b[0mPopen\u001b[0m\u001b[0;34m(\u001b[0m\u001b[0mprocess_obj\u001b[0m\u001b[0;34m)\u001b[0m\u001b[0;34m\u001b[0m\u001b[0;34m\u001b[0m\u001b[0m\n\u001b[0m\u001b[1;32m    284\u001b[0m \u001b[0;34m\u001b[0m\u001b[0m\n\u001b[1;32m    285\u001b[0m     \u001b[0;32mclass\u001b[0m \u001b[0mForkServerProcess\u001b[0m\u001b[0;34m(\u001b[0m\u001b[0mprocess\u001b[0m\u001b[0;34m.\u001b[0m\u001b[0mBaseProcess\u001b[0m\u001b[0;34m)\u001b[0m\u001b[0;34m:\u001b[0m\u001b[0;34m\u001b[0m\u001b[0;34m\u001b[0m\u001b[0m\n",
      "\u001b[0;32m~/opt/anaconda3/lib/python3.8/multiprocessing/popen_spawn_posix.py\u001b[0m in \u001b[0;36m__init__\u001b[0;34m(self, process_obj)\u001b[0m\n\u001b[1;32m     30\u001b[0m     \u001b[0;32mdef\u001b[0m \u001b[0m__init__\u001b[0m\u001b[0;34m(\u001b[0m\u001b[0mself\u001b[0m\u001b[0;34m,\u001b[0m \u001b[0mprocess_obj\u001b[0m\u001b[0;34m)\u001b[0m\u001b[0;34m:\u001b[0m\u001b[0;34m\u001b[0m\u001b[0;34m\u001b[0m\u001b[0m\n\u001b[1;32m     31\u001b[0m         \u001b[0mself\u001b[0m\u001b[0;34m.\u001b[0m\u001b[0m_fds\u001b[0m \u001b[0;34m=\u001b[0m \u001b[0;34m[\u001b[0m\u001b[0;34m]\u001b[0m\u001b[0;34m\u001b[0m\u001b[0;34m\u001b[0m\u001b[0m\n\u001b[0;32m---> 32\u001b[0;31m         \u001b[0msuper\u001b[0m\u001b[0;34m(\u001b[0m\u001b[0;34m)\u001b[0m\u001b[0;34m.\u001b[0m\u001b[0m__init__\u001b[0m\u001b[0;34m(\u001b[0m\u001b[0mprocess_obj\u001b[0m\u001b[0;34m)\u001b[0m\u001b[0;34m\u001b[0m\u001b[0;34m\u001b[0m\u001b[0m\n\u001b[0m\u001b[1;32m     33\u001b[0m \u001b[0;34m\u001b[0m\u001b[0m\n\u001b[1;32m     34\u001b[0m     \u001b[0;32mdef\u001b[0m \u001b[0mduplicate_for_child\u001b[0m\u001b[0;34m(\u001b[0m\u001b[0mself\u001b[0m\u001b[0;34m,\u001b[0m \u001b[0mfd\u001b[0m\u001b[0;34m)\u001b[0m\u001b[0;34m:\u001b[0m\u001b[0;34m\u001b[0m\u001b[0;34m\u001b[0m\u001b[0m\n",
      "\u001b[0;32m~/opt/anaconda3/lib/python3.8/multiprocessing/popen_fork.py\u001b[0m in \u001b[0;36m__init__\u001b[0;34m(self, process_obj)\u001b[0m\n\u001b[1;32m     17\u001b[0m         \u001b[0mself\u001b[0m\u001b[0;34m.\u001b[0m\u001b[0mreturncode\u001b[0m \u001b[0;34m=\u001b[0m \u001b[0;32mNone\u001b[0m\u001b[0;34m\u001b[0m\u001b[0;34m\u001b[0m\u001b[0m\n\u001b[1;32m     18\u001b[0m         \u001b[0mself\u001b[0m\u001b[0;34m.\u001b[0m\u001b[0mfinalizer\u001b[0m \u001b[0;34m=\u001b[0m \u001b[0;32mNone\u001b[0m\u001b[0;34m\u001b[0m\u001b[0;34m\u001b[0m\u001b[0m\n\u001b[0;32m---> 19\u001b[0;31m         \u001b[0mself\u001b[0m\u001b[0;34m.\u001b[0m\u001b[0m_launch\u001b[0m\u001b[0;34m(\u001b[0m\u001b[0mprocess_obj\u001b[0m\u001b[0;34m)\u001b[0m\u001b[0;34m\u001b[0m\u001b[0;34m\u001b[0m\u001b[0m\n\u001b[0m\u001b[1;32m     20\u001b[0m \u001b[0;34m\u001b[0m\u001b[0m\n\u001b[1;32m     21\u001b[0m     \u001b[0;32mdef\u001b[0m \u001b[0mduplicate_for_child\u001b[0m\u001b[0;34m(\u001b[0m\u001b[0mself\u001b[0m\u001b[0;34m,\u001b[0m \u001b[0mfd\u001b[0m\u001b[0;34m)\u001b[0m\u001b[0;34m:\u001b[0m\u001b[0;34m\u001b[0m\u001b[0;34m\u001b[0m\u001b[0m\n",
      "\u001b[0;32m~/opt/anaconda3/lib/python3.8/multiprocessing/popen_spawn_posix.py\u001b[0m in \u001b[0;36m_launch\u001b[0;34m(self, process_obj)\u001b[0m\n\u001b[1;32m     60\u001b[0m             \u001b[0mself\u001b[0m\u001b[0;34m.\u001b[0m\u001b[0msentinel\u001b[0m \u001b[0;34m=\u001b[0m \u001b[0mparent_r\u001b[0m\u001b[0;34m\u001b[0m\u001b[0;34m\u001b[0m\u001b[0m\n\u001b[1;32m     61\u001b[0m             \u001b[0;32mwith\u001b[0m \u001b[0mopen\u001b[0m\u001b[0;34m(\u001b[0m\u001b[0mparent_w\u001b[0m\u001b[0;34m,\u001b[0m \u001b[0;34m'wb'\u001b[0m\u001b[0;34m,\u001b[0m \u001b[0mclosefd\u001b[0m\u001b[0;34m=\u001b[0m\u001b[0;32mFalse\u001b[0m\u001b[0;34m)\u001b[0m \u001b[0;32mas\u001b[0m \u001b[0mf\u001b[0m\u001b[0;34m:\u001b[0m\u001b[0;34m\u001b[0m\u001b[0;34m\u001b[0m\u001b[0m\n\u001b[0;32m---> 62\u001b[0;31m                 \u001b[0mf\u001b[0m\u001b[0;34m.\u001b[0m\u001b[0mwrite\u001b[0m\u001b[0;34m(\u001b[0m\u001b[0mfp\u001b[0m\u001b[0;34m.\u001b[0m\u001b[0mgetbuffer\u001b[0m\u001b[0;34m(\u001b[0m\u001b[0;34m)\u001b[0m\u001b[0;34m)\u001b[0m\u001b[0;34m\u001b[0m\u001b[0;34m\u001b[0m\u001b[0m\n\u001b[0m\u001b[1;32m     63\u001b[0m         \u001b[0;32mfinally\u001b[0m\u001b[0;34m:\u001b[0m\u001b[0;34m\u001b[0m\u001b[0;34m\u001b[0m\u001b[0m\n\u001b[1;32m     64\u001b[0m             \u001b[0mfds_to_close\u001b[0m \u001b[0;34m=\u001b[0m \u001b[0;34m[\u001b[0m\u001b[0;34m]\u001b[0m\u001b[0;34m\u001b[0m\u001b[0;34m\u001b[0m\u001b[0m\n",
      "\u001b[0;31mKeyboardInterrupt\u001b[0m: "
     ]
    }
   ],
   "source": [
    "#Refer: https://docs.python.org/3/library/multiprocessing.html\n",
    "from multiprocessing import Process, Queue\n",
    "import math\n",
    "\n",
    "def mean_MP(s, e, q, d ):\n",
    "\n",
    "  #Sum using for loops. We can use inbuilt NumPy Sum opeartion for better speed.\n",
    "  sum = 0\n",
    "  for i in range(s,e+1):\n",
    "    sum +=d[i]\n",
    "\n",
    "  #Mean\n",
    "  print(sum)  \n",
    "  mean = sum/(e-s+1)\n",
    "  q.put(mean)\n",
    "  return \n",
    "\n",
    "n1 = math.floor(n/2)\n",
    "\n",
    "q = Queue() #Queues are thread and process safe. For communicating between processes and threads.\n",
    "\n",
    "p1 = Process(target=mean_MP, args=(0, n1,q,d )) \n",
    "p2 = Process(target=mean_MP, args=(n1+1,n-1, q,d)) \n",
    "\n",
    "#Time the execution\n",
    "\n",
    "start_time = time.time()\n",
    "\n",
    "p1.start()\n",
    "p2.start()\n",
    "\n",
    "p1.join() # Wait till p1 finishes\n",
    "p2.join() \n",
    "\n",
    "m=0;\n",
    "while not q.empty():\n",
    "     m += q.get()\n",
    "\n",
    "m /= 2;\n",
    "\n",
    "end_time = time.time()\n",
    "print (end_time-start_time)\n",
    "print(m)\n",
    "\n",
    "#This doesn't work\n",
    "\n",
    "\n"
   ]
  },
  {
   "cell_type": "code",
   "execution_count": 40,
   "metadata": {},
   "outputs": [
    {
     "name": "stdout",
     "output_type": "stream",
     "text": [
      "15.237097978591919\n",
      "0.5000084596705494\n"
     ]
    }
   ],
   "source": [
    " #using mean_MP function in a script\n",
    "from multiprocessing import Process, Queue\n",
    "import math\n",
    "import mean_MP\n",
    "import numpy as np\n",
    "\n",
    "if __name__ == '__main__':\n",
    "    n1 = math.floor(n/2)\n",
    "\n",
    "    q = Queue() #Queues are thread and process safe. For communicating between processes and threads.\n",
    "   \n",
    "   \n",
    "\n",
    "    p1 = Process(target=mean_MP.mean_MP, args=(0, n1,q,d )) \n",
    "    p2 = Process(target=mean_MP.mean_MP, args=(n1+1,n-1, q,d)) \n",
    "    \n",
    "    #Time the execution\n",
    "    start_time = time.time()\n",
    "\n",
    "    p1.start()\n",
    "    p2.start()\n",
    "\n",
    "    p1.join() # Wait till p1 finishes\n",
    "    p2.join() \n",
    "\n",
    "    m=0;\n",
    "    while not q.empty():\n",
    "         m += q.get()\n",
    "\n",
    "    m /= 2;\n",
    "\n",
    "    end_time = time.time()\n",
    "    print (end_time-start_time)\n",
    "    print(m)\n",
    "\n"
   ]
  },
  {
   "cell_type": "code",
   "execution_count": null,
   "metadata": {},
   "outputs": [],
   "source": []
  },
  {
   "cell_type": "code",
   "execution_count": 44,
   "metadata": {},
   "outputs": [
    {
     "name": "stdout",
     "output_type": "stream",
     "text": [
      "17.752393007278442\n",
      "0.5000084596705494\n"
     ]
    }
   ],
   "source": [
    "#using mean_MP function in a script\n",
    "from multiprocessing import Process, Queue\n",
    "import math\n",
    "import mean_MP\n",
    "import numpy as np\n",
    "\n",
    "if __name__ == '__main__':\n",
    "    n1 = math.floor(n/2)\n",
    "\n",
    "    q = Queue() #Queues are thread and process safe. For communicating between processes and threads.\n",
    "    arg1=0\n",
    "    arg2=n1\n",
    "    p_list=[]\n",
    "    for p in range(2):\n",
    "        p_list.append(Process(target=mean_MP.mean_MP,args=(arg1,arg2,q,d)))\n",
    "        arg1=arg2+1\n",
    "        arg2=n-1\n",
    "    start_time = time.time()\n",
    "\n",
    "    p_list[0].start()\n",
    "    p_list[1].start()\n",
    "\n",
    "    p_list[0].join() # Wait till p1 finishes\n",
    "    p_list[1].join() \n",
    "\n",
    "    m=0;\n",
    "    while not q.empty():\n",
    "         m += q.get()\n",
    "\n",
    "    m /= 2;\n",
    "\n",
    "    end_time = time.time()\n",
    "    print (end_time-start_time)\n",
    "    print(m)\n",
    "\n",
    "\n",
    "        \n",
    "\n",
    "    #p1 = Process(target=mean_MP.mean_MP, args=(0, n1,q,d )) \n",
    "    #p2 = Process(target=mean_MP.mean_MP, args=(n1+1,n-1, q,d)) \n",
    "    \n",
    "    #Time the execution\n",
    "\n",
    "   \n",
    "\n",
    "    "
   ]
  },
  {
   "cell_type": "code",
   "execution_count": 45,
   "metadata": {},
   "outputs": [
    {
     "data": {
      "text/plain": [
       "<Process name='Process-45' pid=44076 parent=8431 stopped exitcode=0>"
      ]
     },
     "execution_count": 45,
     "metadata": {},
     "output_type": "execute_result"
    }
   ],
   "source": [
    "p_list[0]"
   ]
  },
  {
   "cell_type": "code",
   "execution_count": 46,
   "metadata": {},
   "outputs": [
    {
     "data": {
      "text/plain": [
       "<Process name='Process-46' pid=44077 parent=8431 stopped exitcode=0>"
      ]
     },
     "execution_count": 46,
     "metadata": {},
     "output_type": "execute_result"
    }
   ],
   "source": [
    "\n",
    "p_list[1]"
   ]
  },
  {
   "cell_type": "code",
   "execution_count": 14,
   "metadata": {},
   "outputs": [
    {
     "name": "stdout",
     "output_type": "stream",
     "text": [
      "0.12081503868103027\n",
      "0.0\n"
     ]
    }
   ],
   "source": [
    "\n",
    "\n"
   ]
  },
  {
   "cell_type": "markdown",
   "metadata": {},
   "source": [
    "### Multi-Threaded Code"
   ]
  },
  {
   "cell_type": "code",
   "execution_count": 39,
   "metadata": {},
   "outputs": [
    {
     "name": "stdout",
     "output_type": "stream",
     "text": [
      "26.87030792236328\n",
      "0.5000084596705494\n"
     ]
    }
   ],
   "source": [
    "#Refer: https://docs.python.org/3/library/threading.html\n",
    "from threading import Thread\n",
    "\n",
    "\n",
    "means = [0,0];\n",
    "\n",
    "def mean_MT(s, e, threadNum ):\n",
    "\n",
    "  #Sum using for loops. We can use inbuilt NumPy Sum opeartion for better speed.\n",
    "  sum = 0\n",
    "  for i in range(s,e+1):\n",
    "    sum +=d[i]\n",
    "\n",
    "  #Mean\n",
    "  mean = sum/(e-s+1)\n",
    "  means[threadNum] = mean; # means is a shared varibale between the threads\n",
    "\n",
    "  return \n",
    "\n",
    "n1 = math.floor(n/2)\n",
    "\n",
    "t1 = Thread(target=mean_MT, args=(0, n1,0 ))  # Third apram is the thread number\n",
    "t2 = Thread(target=mean_MT, args=(n1+1,n-1,1)) \n",
    "\n",
    "#Time the execution\n",
    "start_time = time.time()\n",
    "\n",
    "t1.start()\n",
    "t2.start()\n",
    "\n",
    "t1.join() # Wait till t1 finishes\n",
    "t2.join() \n",
    "\n",
    "m = (means[0]+means[1])/2\n",
    "    \n",
    "end_time = time.time()\n",
    "print (end_time-start_time)\n",
    "print(m)\n",
    "\n"
   ]
  },
  {
   "cell_type": "markdown",
   "metadata": {},
   "source": [
    "## Joblib\n"
   ]
  },
  {
   "cell_type": "markdown",
   "metadata": {},
   "source": [
    "### Caching of function output values"
   ]
  },
  {
   "cell_type": "code",
   "execution_count": 23,
   "metadata": {},
   "outputs": [
    {
     "name": "stdout",
     "output_type": "stream",
     "text": [
      "________________________________________________________________________________\n",
      "[Memory] Calling square...\n",
      "square(array([[0., 0., 1.],\n",
      "       [1., 1., 1.],\n",
      "       [4., 2., 1.]]))\n",
      "___________________________________________________________square - 0.0s, 0.0min\n"
     ]
    }
   ],
   "source": [
    "\n",
    "#Transparent and fast disk-caching of output value\n",
    "# Refer: https://joblib.readthedocs.io/en/latest/\n",
    "from joblib import Memory\n",
    "cachedir = './'\n",
    "mem = Memory(cachedir)\n",
    "\n",
    "import numpy as np\n",
    "a = np.vander(np.arange(3)).astype(np.float)\n",
    "square = mem.cache(np.square)\n",
    "b = square(a) "
   ]
  },
  {
   "cell_type": "code",
   "execution_count": 24,
   "metadata": {},
   "outputs": [],
   "source": [
    "c = square(a)\n",
    "# The above call did not trigger an evaluation"
   ]
  },
  {
   "cell_type": "markdown",
   "metadata": {},
   "source": [
    "### Simple Parallel programming for Loops"
   ]
  },
  {
   "cell_type": "code",
   "execution_count": 25,
   "metadata": {},
   "outputs": [
    {
     "name": "stdout",
     "output_type": "stream",
     "text": [
      "19.42867112159729\n"
     ]
    }
   ],
   "source": [
    "# Refer: https://joblib.readthedocs.io/en/latest/generated/joblib.Parallel.html\n",
    "\n",
    "import time\n",
    "from math import sqrt # inbuilt fucntion\n",
    "\n",
    "def f(i):\n",
    "    \n",
    "    # some computations  that take time\n",
    "    x=10000\n",
    "    p =1;\n",
    "    for j in range(x):\n",
    "        for k in range(j):\n",
    "            p *= k\n",
    "    \n",
    "    return sqrt(i ** 2);\n",
    "\n",
    "# Find sqrt of first n numbers\n",
    "n=10;\n",
    "\n",
    "start_time = time.time()\n",
    "\n",
    "for i in range(n):\n",
    "    f(i)\n",
    "\n",
    "end_time = time.time()\n",
    "print (end_time-start_time)"
   ]
  },
  {
   "cell_type": "code",
   "execution_count": 32,
   "metadata": {},
   "outputs": [
    {
     "name": "stdout",
     "output_type": "stream",
     "text": [
      "[0.0, 1.0, 2.0, 3.0, 4.0, 5.0, 6.0, 7.0, 8.0, 9.0]\n",
      "10.564125299453735\n"
     ]
    }
   ],
   "source": [
    "from joblib import Parallel, delayed\n",
    "\n",
    "start_time = time.time()\n",
    "\n",
    "a = Parallel(n_jobs=2)(delayed(f)(i) for i in range(n)) \n",
    "\n",
    "# Why we need dealyed(): https://stackoverflow.com/questions/42220458/what-does-the-delayed-function-do-when-used-with-joblib-in-python\n",
    "\n",
    "end_time = time.time()\n",
    "print(a)\n",
    "print (end_time-start_time)\n"
   ]
  },
  {
   "cell_type": "code",
   "execution_count": 31,
   "metadata": {},
   "outputs": [
    {
     "data": {
      "text/plain": [
       "[0.0, 1.0, 2.0, 3.0, 4.0, 5.0, 6.0, 7.0, 8.0, 9.0]"
      ]
     },
     "execution_count": 31,
     "metadata": {},
     "output_type": "execute_result"
    }
   ],
   "source": [
    "a"
   ]
  },
  {
   "cell_type": "code",
   "execution_count": 27,
   "metadata": {},
   "outputs": [
    {
     "name": "stdout",
     "output_type": "stream",
     "text": [
      "19.89794421195984\n"
     ]
    }
   ],
   "source": [
    "# Multi threading: GIL is an issue\n",
    "start_time = time.time()\n",
    "\n",
    "a = Parallel(n_jobs=2,prefer=\"threads\")(delayed(f)(i ** 2) for i in range(n))\n",
    "\n",
    "end_time = time.time()\n",
    "print (end_time-start_time)"
   ]
  },
  {
   "cell_type": "code",
   "execution_count": 28,
   "metadata": {},
   "outputs": [
    {
     "name": "stdout",
     "output_type": "stream",
     "text": [
      "4.79365611076355\n"
     ]
    }
   ],
   "source": [
    "\n",
    "# 6 jobs\n",
    "\n",
    "from joblib import Parallel, delayed\n",
    "\n",
    "start_time = time.time()\n",
    "\n",
    "a = Parallel(n_jobs=6)(delayed(f)(i ** 2) for i in range(n)) \n",
    "\n",
    "# Why we need dealyed(): https://stackoverflow.com/questions/42220458/what-does-the-delayed-function-do-when-used-with-joblib-in-python\n",
    "\n",
    "end_time = time.time()\n",
    "print (end_time-start_time)"
   ]
  },
  {
   "cell_type": "code",
   "execution_count": null,
   "metadata": {},
   "outputs": [],
   "source": []
  }
 ],
 "metadata": {
  "colab": {
   "collapsed_sections": [],
   "name": "Multithreading in Python for AI/ML.ipynb",
   "provenance": []
  },
  "kernelspec": {
   "display_name": "Python 3",
   "language": "python",
   "name": "python3"
  },
  "language_info": {
   "codemirror_mode": {
    "name": "ipython",
    "version": 3
   },
   "file_extension": ".py",
   "mimetype": "text/x-python",
   "name": "python",
   "nbconvert_exporter": "python",
   "pygments_lexer": "ipython3",
   "version": "3.8.3"
  }
 },
 "nbformat": 4,
 "nbformat_minor": 1
}
