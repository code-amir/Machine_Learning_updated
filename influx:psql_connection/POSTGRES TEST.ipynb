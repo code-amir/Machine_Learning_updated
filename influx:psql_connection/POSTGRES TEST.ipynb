{
 "cells": [
  {
   "cell_type": "code",
   "execution_count": 33,
   "metadata": {},
   "outputs": [],
   "source": [
    "\n",
    "import psycopg2\n",
    "\n",
    "# ----- Example Python program to create a database in PostgreSQL using Psycopg2 -----\n",
    "\n",
    "# import the PostgreSQL client for Python\n",
    "\n",
    "import psycopg2\n",
    "\n",
    "from psycopg2.extensions import ISOLATION_LEVEL_AUTOCOMMIT\n",
    "\n"
   ]
  },
  {
   "cell_type": "code",
   "execution_count": 34,
   "metadata": {},
   "outputs": [],
   "source": [
    "\n",
    "# Connect to PostgreSQL DBMS\n",
    "\n",
    "con = psycopg2.connect(\"user=admin\" , host=\"127.0.0.1\", port=\"5432\" , database=\"postgres\");\n",
    "con.set_isolation_level(ISOLATION_LEVEL_AUTOCOMMIT); \n",
    "cursor          = con.cursor();"
   ]
  },
  {
   "cell_type": "code",
   "execution_count": 35,
   "metadata": {},
   "outputs": [],
   "source": [
    "\n",
    "name_Database   = \"test_dv\";\n",
    "sqlCreateDatabase = \"create database \"+name_Database+\";\"\n",
    "\n",
    "\n"
   ]
  },
  {
   "cell_type": "code",
   "execution_count": 36,
   "metadata": {},
   "outputs": [
    {
     "name": "stdout",
     "output_type": "stream",
     "text": [
      "Daatabase exists database \"test_dv\" already exists\n",
      "\n"
     ]
    }
   ],
   "source": [
    "# Create a table in PostgreSQL database\n",
    "\n",
    "try:\n",
    "    cursor.execute(sqlCreateDatabase);\n",
    "\n",
    "except Exception as e:\n",
    "\n",
    "    print (\"Daatabase exists {}\".format (e))    \n",
    "    "
   ]
  },
  {
   "cell_type": "code",
   "execution_count": 37,
   "metadata": {},
   "outputs": [
    {
     "name": "stdout",
     "output_type": "stream",
     "text": [
      "Opened database successfully\n"
     ]
    }
   ],
   "source": [
    "\n",
    "conn = psycopg2.connect(database = name_Database, user = \"admin\", host = \"127.0.0.1\", port = \"5432\")\n",
    "print (\"Opened database successfully\")\n",
    "\n",
    "cur = conn.cursor()"
   ]
  },
  {
   "cell_type": "code",
   "execution_count": 38,
   "metadata": {},
   "outputs": [],
   "source": [
    "\n",
    "table_name = \"table_info\"\n",
    "\n",
    "columns=\"column1 varchar(50) not null,column2 varchar(50), column3 varchar(100)\"\n",
    "primaryKey=\"column1,column2\"\n",
    "\n"
   ]
  },
  {
   "cell_type": "code",
   "execution_count": 39,
   "metadata": {},
   "outputs": [],
   "source": [
    "if primaryKey is None:\n",
    "    query= \"create table if not exists \"+table_name+\"(\"+columns+\");\"\t\n",
    "else:\n",
    "    query=\"create table if not exists \"+table_name+\"(\"+columns+\", primary key(\"+primaryKey+\"));\"\n",
    "\n"
   ]
  },
  {
   "cell_type": "code",
   "execution_count": 40,
   "metadata": {},
   "outputs": [],
   "source": [
    "\n",
    "cur.execute(query)\n",
    "\n",
    "conn.commit()"
   ]
  },
  {
   "cell_type": "code",
   "execution_count": 41,
   "metadata": {},
   "outputs": [
    {
     "name": "stdout",
     "output_type": "stream",
     "text": [
      "Table created successfully\n"
     ]
    }
   ],
   "source": [
    "\n",
    "print (\"Table created successfully\")\n",
    "\n",
    "\n",
    "query = \"\"\"INSERT INTO table_info(\n",
    "   column1, column2, column3)\n",
    "   VALUES ('Amir', 'Mallick', 'Banaglore')\"\"\"\n",
    "\n",
    "cur.execute(query)"
   ]
  },
  {
   "cell_type": "code",
   "execution_count": 42,
   "metadata": {},
   "outputs": [
    {
     "name": "stdout",
     "output_type": "stream",
     "text": [
      "[('Amir', 'Mallick', 'Banaglore')]\n"
     ]
    }
   ],
   "source": [
    "query = \"\"\" SELECT * from table_info\"\"\"\n",
    "cur.execute(query)\n",
    "query_results = cur.fetchall()\n",
    "print(query_results)"
   ]
  },
  {
   "cell_type": "code",
   "execution_count": 43,
   "metadata": {},
   "outputs": [],
   "source": [
    "\n",
    "conn.commit()\n",
    "conn.close()\n"
   ]
  },
  {
   "cell_type": "code",
   "execution_count": null,
   "metadata": {},
   "outputs": [],
   "source": []
  },
  {
   "cell_type": "code",
   "execution_count": null,
   "metadata": {},
   "outputs": [],
   "source": []
  },
  {
   "cell_type": "code",
   "execution_count": null,
   "metadata": {},
   "outputs": [],
   "source": []
  }
 ],
 "metadata": {
  "kernelspec": {
   "display_name": "Python 3",
   "language": "python",
   "name": "python3"
  },
  "language_info": {
   "codemirror_mode": {
    "name": "ipython",
    "version": 3
   },
   "file_extension": ".py",
   "mimetype": "text/x-python",
   "name": "python",
   "nbconvert_exporter": "python",
   "pygments_lexer": "ipython3",
   "version": "3.8.3"
  }
 },
 "nbformat": 4,
 "nbformat_minor": 4
}
