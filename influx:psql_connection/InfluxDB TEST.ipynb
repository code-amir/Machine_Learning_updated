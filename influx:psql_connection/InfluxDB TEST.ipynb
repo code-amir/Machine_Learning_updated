{
 "cells": [
  {
   "cell_type": "code",
   "execution_count": 6,
   "metadata": {},
   "outputs": [],
   "source": [
    "##Line Protocol\n",
    "from influxdb import InfluxDBClient"
   ]
  },
  {
   "cell_type": "code",
   "execution_count": 28,
   "metadata": {},
   "outputs": [],
   "source": [
    "lp=['interface,path=address,element=link value=3']\n"
   ]
  },
  {
   "cell_type": "code",
   "execution_count": 107,
   "metadata": {},
   "outputs": [],
   "source": [
    "#ROP DATABASE <database_name>\n",
    "client.drop_database(dbname)\n",
    "dbname = 'test2'\n",
    "client.switch_database(dbname)"
   ]
  },
  {
   "cell_type": "code",
   "execution_count": 5,
   "metadata": {},
   "outputs": [
    {
     "ename": "NameError",
     "evalue": "name 'InfluxDBClient' is not defined",
     "output_type": "error",
     "traceback": [
      "\u001b[0;31m---------------------------------------------------------------------------\u001b[0m",
      "\u001b[0;31mNameError\u001b[0m                                 Traceback (most recent call last)",
      "\u001b[0;32m<ipython-input-5-6eab5dbc2c85>\u001b[0m in \u001b[0;36m<module>\u001b[0;34m\u001b[0m\n\u001b[1;32m      4\u001b[0m \u001b[0mpassword\u001b[0m \u001b[0;34m=\u001b[0m \u001b[0;34m'root'\u001b[0m\u001b[0;34m\u001b[0m\u001b[0;34m\u001b[0m\u001b[0m\n\u001b[1;32m      5\u001b[0m \u001b[0;34m\u001b[0m\u001b[0m\n\u001b[0;32m----> 6\u001b[0;31m \u001b[0mclient\u001b[0m \u001b[0;34m=\u001b[0m \u001b[0mInfluxDBClient\u001b[0m\u001b[0;34m(\u001b[0m\u001b[0;34m'localhost'\u001b[0m\u001b[0;34m,\u001b[0m \u001b[0;36m8086\u001b[0m\u001b[0;34m,\u001b[0m \u001b[0muser\u001b[0m\u001b[0;34m,\u001b[0m \u001b[0mpassword\u001b[0m\u001b[0;34m,\u001b[0m \u001b[0mdbname\u001b[0m\u001b[0;34m)\u001b[0m\u001b[0;34m\u001b[0m\u001b[0;34m\u001b[0m\u001b[0m\n\u001b[0m\u001b[1;32m      7\u001b[0m \u001b[0;34m\u001b[0m\u001b[0m\n\u001b[1;32m      8\u001b[0m \u001b[0mdbs\u001b[0m \u001b[0;34m=\u001b[0m \u001b[0mclient\u001b[0m\u001b[0;34m.\u001b[0m\u001b[0mget_list_database\u001b[0m\u001b[0;34m(\u001b[0m\u001b[0;34m)\u001b[0m\u001b[0;34m\u001b[0m\u001b[0;34m\u001b[0m\u001b[0m\n",
      "\u001b[0;31mNameError\u001b[0m: name 'InfluxDBClient' is not defined"
     ]
    }
   ],
   "source": [
    "dbname = 'test3'\n",
    "\n",
    "user = 'root'\n",
    "password = 'root'\n",
    "\n",
    "client = InfluxDBClient('localhost', 8086, user, password, dbname)\n",
    "\n",
    "dbs = client.get_list_database()\n",
    "print (dbs)\n",
    "\n",
    "if dbname not in dbs:\n",
    "\n",
    "    print(\"Create database: \" + dbname)\n",
    "    client.create_database(dbname)\n",
    "\n",
    "print(\"Switch database: \" + dbname)\n",
    "client.switch_database(dbname)\n",
    "\n",
    "print(\"Create a retention policy\")\n",
    "client.create_retention_policy('awesome_policy', '103d', 103, default=True)\n",
    "\n",
    "#client.write(['interface,path=address,elementss=link value=3'],{'db':'test3'},204,'line')\n",
    "#client.write(['interface,path=address,element=link value=4'],{'db':'test3'},204,'line')\n",
    "#client.write(lp,{'db':'test3'},204,'line')\n",
    "#client.write_points(json_body)\n",
    "client.write_points(lp,protocol='line')\n",
    "\n",
    "client.query(\"show measurements\")\n",
    "\n"
   ]
  },
  {
   "cell_type": "code",
   "execution_count": null,
   "metadata": {},
   "outputs": [],
   "source": []
  },
  {
   "cell_type": "code",
   "execution_count": 6,
   "metadata": {},
   "outputs": [
    {
     "name": "stdout",
     "output_type": "stream",
     "text": [
      "Querying data: select * from  \"cpu-load-short\";\n"
     ]
    },
    {
     "ename": "NameError",
     "evalue": "name 'client' is not defined",
     "output_type": "error",
     "traceback": [
      "\u001b[0;31m---------------------------------------------------------------------------\u001b[0m",
      "\u001b[0;31mNameError\u001b[0m                                 Traceback (most recent call last)",
      "\u001b[0;32m<ipython-input-6-34808e42e71e>\u001b[0m in \u001b[0;36m<module>\u001b[0;34m\u001b[0m\n\u001b[1;32m     12\u001b[0m \u001b[0mquery\u001b[0m \u001b[0;34m=\u001b[0m \u001b[0;34m\"select * from \"\u001b[0m\u001b[0;34m+\u001b[0m\u001b[0mtable_name\u001b[0m\u001b[0;34m\u001b[0m\u001b[0;34m\u001b[0m\u001b[0m\n\u001b[1;32m     13\u001b[0m \u001b[0mprint\u001b[0m\u001b[0;34m(\u001b[0m\u001b[0;34m\"Querying data: \"\u001b[0m \u001b[0;34m+\u001b[0m \u001b[0mquery\u001b[0m\u001b[0;34m)\u001b[0m\u001b[0;34m\u001b[0m\u001b[0;34m\u001b[0m\u001b[0m\n\u001b[0;32m---> 14\u001b[0;31m \u001b[0mresult\u001b[0m \u001b[0;34m=\u001b[0m \u001b[0mclient\u001b[0m\u001b[0;34m.\u001b[0m\u001b[0mquery\u001b[0m\u001b[0;34m(\u001b[0m\u001b[0mquery\u001b[0m\u001b[0;34m)\u001b[0m\u001b[0;34m\u001b[0m\u001b[0;34m\u001b[0m\u001b[0m\n\u001b[0m\u001b[1;32m     15\u001b[0m \u001b[0;34m\u001b[0m\u001b[0m\n\u001b[1;32m     16\u001b[0m \u001b[0mprint\u001b[0m\u001b[0;34m(\u001b[0m\u001b[0;34m\"Result: {0}\"\u001b[0m\u001b[0;34m.\u001b[0m\u001b[0mformat\u001b[0m\u001b[0;34m(\u001b[0m\u001b[0mresult\u001b[0m\u001b[0;34m)\u001b[0m\u001b[0;34m)\u001b[0m\u001b[0;34m\u001b[0m\u001b[0;34m\u001b[0m\u001b[0m\n",
      "\u001b[0;31mNameError\u001b[0m: name 'client' is not defined"
     ]
    }
   ],
   "source": [
    "\n",
    " table_name=\" \\\"cpu-load-short\\\";\"\n",
    "# query = \"select Float_value from\" + table_name\n",
    "# print(\"Querying data: \" + query)\n",
    "# result = client.query(query)\n",
    "\n",
    "# print(\"Result: {0}\".format(result))\n",
    "\n",
    "\n",
    "\n",
    "\n",
    "\n",
    "query = \"select * from \"+table_name\n",
    "print(\"Querying data: \" + query)\n",
    "result = client.query(query)\n",
    "\n",
    "print(\"Result: {0}\".format(result))"
   ]
  },
  {
   "cell_type": "code",
   "execution_count": null,
   "metadata": {},
   "outputs": [],
   "source": []
  },
  {
   "cell_type": "code",
   "execution_count": null,
   "metadata": {},
   "outputs": [],
   "source": []
  },
  {
   "cell_type": "code",
   "execution_count": null,
   "metadata": {},
   "outputs": [],
   "source": []
  },
  {
   "cell_type": "code",
   "execution_count": null,
   "metadata": {},
   "outputs": [],
   "source": []
  },
  {
   "cell_type": "code",
   "execution_count": 2,
   "metadata": {},
   "outputs": [],
   "source": [
    "\n",
    "\n",
    "\n",
    "from influxdb import InfluxDBClient\n",
    "\n",
    "#client.drop_database('test2')\n",
    "json_body = [\n",
    "        {\n",
    "            \"measurement\": \"cpu-load-short\",#changed from cpu_load_short\n",
    "            \"tags\": {\n",
    "                \"host\": \"server01\",\n",
    "                \"region\": \"us-west\"\n",
    "            },\n",
    "            \"time\": \"2021-05-10T22:00:00Z\",\n",
    "            \"fields\": {\n",
    "                \"Float_value\": 0.64,\n",
    "                \"Int_value\": 3,\n",
    "                \"String_value\": \"Text\",\n",
    "                \"Bool_value\": True\n",
    "            }\n",
    "        }\n",
    "    ]\n",
    "\n",
    "json_body1 = [\n",
    "        {\n",
    "            \"measurement\": \"cpu-load-short\",\n",
    "            \"tags\": {\n",
    "                \"host\": \"server01\",\n",
    "                \"region\": \"us-west\"\n",
    "            },\n",
    "            \"time\": \"2021-05-10T23:00:00Z\",\n",
    "            \"fields\": {\n",
    "                \"Float_value\": 0.74,\n",
    "                \"Int_value\": 3,\n",
    "                \"String_value\": \"Text\",\n",
    "                \"Bool_value\": True\n",
    "            }\n",
    "        }\n",
    "    ]\n",
    "\n"
   ]
  },
  {
   "cell_type": "code",
   "execution_count": 6,
   "metadata": {},
   "outputs": [
    {
     "data": {
      "text/plain": [
       "{'Float_value': 0.64,\n",
       " 'Int_value': 3,\n",
       " 'String_value': 'Text',\n",
       " 'Bool_value': True}"
      ]
     },
     "execution_count": 6,
     "metadata": {},
     "output_type": "execute_result"
    }
   ],
   "source": [
    "json_body[0]['fields']"
   ]
  },
  {
   "cell_type": "code",
   "execution_count": 118,
   "metadata": {},
   "outputs": [
    {
     "name": "stdout",
     "output_type": "stream",
     "text": [
      "[{'name': '_internal'}, {'name': 'example'}, {'name': 'example1'}, {'name': 'e1_one_1'}, {'name': 'dt_db_new'}, {'name': 'dt_new'}, {'name': 'dt_APRIL01'}, {'name': 'dt_APRIL01_01'}, {'name': 'DT_ANALYSIS'}, {'name': 'CVT_ANALYSIS'}, {'name': 'dt_May_05'}, {'name': 'telegraf'}, {'name': 'telegraf1'}, {'name': 'Telegraf3'}, {'name': 'test3'}]\n"
     ]
    }
   ],
   "source": [
    "dbname = 'test2'\n",
    "\n",
    "user = 'root'\n",
    "password = 'root'\n",
    "\n",
    "client = InfluxDBClient('localhost', 8086, user, password, dbname)\n",
    "\n",
    "dbs = client.get_list_database()\n",
    "print (dbs)\n"
   ]
  },
  {
   "cell_type": "code",
   "execution_count": 119,
   "metadata": {},
   "outputs": [
    {
     "name": "stdout",
     "output_type": "stream",
     "text": [
      "Create database: test2\n",
      "Switch database: test2\n"
     ]
    }
   ],
   "source": [
    "\n",
    "if dbname not in dbs:\n",
    "\n",
    "    print(\"Create database: \" + dbname)\n",
    "    client.create_database(dbname)\n",
    "\n",
    "print(\"Switch database: \" + dbname)\n",
    "client.switch_database(dbname)\n",
    "\n",
    "\n",
    "\n",
    "\n"
   ]
  },
  {
   "cell_type": "code",
   "execution_count": 121,
   "metadata": {},
   "outputs": [
    {
     "name": "stdout",
     "output_type": "stream",
     "text": [
      "Create a retention policy\n"
     ]
    }
   ],
   "source": [
    "print(\"Create a retention policy\")\n",
    "client.create_retention_policy('awesome_policy', '3d', 3, default=True)"
   ]
  },
  {
   "cell_type": "code",
   "execution_count": 122,
   "metadata": {},
   "outputs": [
    {
     "data": {
      "text/plain": [
       "ResultSet({'('measurements', None)': [{'name': 'cpu-load-short'}]})"
      ]
     },
     "execution_count": 122,
     "metadata": {},
     "output_type": "execute_result"
    }
   ],
   "source": [
    "#print(\"Write points: {0}\".format(json_body))\n",
    "client.write_points(json_body)\n",
    "client.write_points(json_body1)\n",
    "client.query(\"show measurements\")"
   ]
  },
  {
   "cell_type": "code",
   "execution_count": 123,
   "metadata": {},
   "outputs": [
    {
     "name": "stdout",
     "output_type": "stream",
     "text": [
      "Querying data: select Float_value from \"cpu-load-short\";\n",
      "Result: ResultSet({'('cpu-load-short', None)': [{'time': '2021-05-10T22:00:00Z', 'Float_value': 0.64}, {'time': '2021-05-10T23:00:00Z', 'Float_value': 0.74}]})\n"
     ]
    }
   ],
   "source": [
    "table_name=\" \\\"cpu-load-short\\\";\"\n",
    "query = \"select Float_value from\" + table_name\n",
    "print(\"Querying data: \" + query)\n",
    "result = client.query(query)\n",
    "\n",
    "print(\"Result: {0}\".format(result))\n",
    "\n"
   ]
  },
  {
   "cell_type": "code",
   "execution_count": 116,
   "metadata": {},
   "outputs": [
    {
     "name": "stdout",
     "output_type": "stream",
     "text": [
      "Querying data: select Float_value from \"cpu-load-short\";\n",
      "Result: ResultSet({'('cpu-load-short', None)': [{'time': '2021-04-29T23:00:00Z', 'Float_value': 0.74}, {'time': '2021-04-30T22:00:00Z', 'Float_value': 0.64}]})\n"
     ]
    }
   ],
   "source": [
    "\n",
    "#\"SELECT last(timestamp)  FROM \\\"vale-vale\\\"\"\n",
    "#table_name=\"cpu-load-short\\\";\"\n",
    "query = \"select Float_value from \\\"cpu-load-short\\\";\"\n",
    "print(\"Querying data: \" + query)\n",
    "result = client.query(query)\n",
    "\n",
    "print(\"Result: {0}\".format(result))\n",
    "\n",
    "\n"
   ]
  },
  {
   "cell_type": "code",
   "execution_count": 55,
   "metadata": {},
   "outputs": [
    {
     "name": "stdout",
     "output_type": "stream",
     "text": [
      "Result: ResultSet({'('cpu_load_short', None)': [{'time': '2021-04-29T23:00:00Z', 'Int_value': 3}, {'time': '2021-04-30T22:00:00Z', 'Int_value': 3}]})\n"
     ]
    }
   ],
   "source": [
    "query_where = 'select Int_value from cpu_load_short where host=$host;'\n",
    "bind_params = {'host': 'server01'}\n",
    "result = client.query(query_where, bind_params=bind_params)\n",
    "\n",
    "print(\"Result: {0}\".format(result))\n",
    "\n",
    "\n",
    "\n",
    "\n"
   ]
  },
  {
   "cell_type": "code",
   "execution_count": null,
   "metadata": {},
   "outputs": [],
   "source": []
  }
 ],
 "metadata": {
  "kernelspec": {
   "display_name": "Python 3",
   "language": "python",
   "name": "python3"
  },
  "language_info": {
   "codemirror_mode": {
    "name": "ipython",
    "version": 3
   },
   "file_extension": ".py",
   "mimetype": "text/x-python",
   "name": "python",
   "nbconvert_exporter": "python",
   "pygments_lexer": "ipython3",
   "version": "3.8.3"
  }
 },
 "nbformat": 4,
 "nbformat_minor": 4
}
